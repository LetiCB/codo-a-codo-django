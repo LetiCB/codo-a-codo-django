{
 "cells": [
  {
   "cell_type": "markdown",
   "id": "a3b3064d",
   "metadata": {},
   "source": [
    "# <center>  CODO A CODO: DJANGO 2023 </center>\n",
    "## <center>Leticia Castro Brisson</center>"
   ]
  },
  {
   "cell_type": "markdown",
   "id": "a07b6fab",
   "metadata": {},
   "source": [
    "### <center>Ejercicios integradores</center>"
   ]
  },
  {
   "cell_type": "markdown",
   "id": "f1baa742",
   "metadata": {},
   "source": [
    "<br><br>\n",
    "1. Escribir una función que calcule el máximo común divisor entre dos números."
   ]
  },
  {
   "cell_type": "code",
   "execution_count": 25,
   "id": "fb02d253",
   "metadata": {},
   "outputs": [],
   "source": [
    "def maximo_comun_divisor(num1, num2):\n",
    "    divisores1 = []\n",
    "    divisores2 = []\n",
    "    for i in range(1, num1 +1):\n",
    "        if num1 % i == 0:\n",
    "            divisores1.append(i)\n",
    "    for i in range(1, num2+1):\n",
    "        if num2 % i == 0:\n",
    "            divisores2.append(i)\n",
    "    return max(list(set(divisores1) & set(divisores2)))"
   ]
  },
  {
   "cell_type": "code",
   "execution_count": 27,
   "id": "3d2eae52",
   "metadata": {},
   "outputs": [
    {
     "data": {
      "text/plain": [
       "6"
      ]
     },
     "execution_count": 27,
     "metadata": {},
     "output_type": "execute_result"
    }
   ],
   "source": [
    "maximo_comun_divisor(12, 18)"
   ]
  },
  {
   "cell_type": "code",
   "execution_count": 26,
   "id": "f412485f",
   "metadata": {},
   "outputs": [
    {
     "data": {
      "text/plain": [
       "50"
      ]
     },
     "execution_count": 26,
     "metadata": {},
     "output_type": "execute_result"
    }
   ],
   "source": [
    "maximo_comun_divisor(50, 100)"
   ]
  },
  {
   "cell_type": "markdown",
   "id": "e7b83ae1",
   "metadata": {},
   "source": [
    "<br><br>\n",
    "2. Escribir una función que calcule el mínimo común múltiplo entre dos números"
   ]
  },
  {
   "cell_type": "code",
   "execution_count": null,
   "id": "8f382a93",
   "metadata": {},
   "outputs": [],
   "source": []
  },
  {
   "cell_type": "code",
   "execution_count": null,
   "id": "b011bc42",
   "metadata": {},
   "outputs": [],
   "source": []
  },
  {
   "cell_type": "code",
   "execution_count": null,
   "id": "e8f42da0",
   "metadata": {},
   "outputs": [],
   "source": []
  },
  {
   "cell_type": "code",
   "execution_count": null,
   "id": "43733163",
   "metadata": {},
   "outputs": [],
   "source": []
  },
  {
   "cell_type": "code",
   "execution_count": null,
   "id": "734a867c",
   "metadata": {},
   "outputs": [],
   "source": []
  },
  {
   "cell_type": "code",
   "execution_count": null,
   "id": "faf22e37",
   "metadata": {},
   "outputs": [],
   "source": []
  },
  {
   "cell_type": "markdown",
   "id": "91506872",
   "metadata": {},
   "source": [
    "<br><br>\n",
    "3. Escribir un programa que reciba una cadena de caracteres y devuelva un diccionario con cada palabra que contiene y la cantidad de veces que aparece (frecuencia)."
   ]
  },
  {
   "cell_type": "code",
   "execution_count": 46,
   "id": "a2689eee",
   "metadata": {},
   "outputs": [],
   "source": [
    "def obtener_frecuencia_de_palabras(texto):\n",
    "    import re\n",
    "    diccionario_de_frecuencias = {}\n",
    "    texto_sin_puntuacion = re.sub(r'[^\\w\\s]', '', texto.lower())\n",
    "    lista_palabras = texto_sin_puntuacion.split()\n",
    "    for palabra in lista_palabras:\n",
    "        if palabra in diccionario_de_frecuencias:\n",
    "            diccionario_de_frecuencias[palabra] += 1\n",
    "        else:\n",
    "            diccionario_de_frecuencias.update({palabra: 1}) \n",
    "    return diccionario_de_frecuencias"
   ]
  },
  {
   "cell_type": "code",
   "execution_count": 49,
   "id": "6699e471",
   "metadata": {},
   "outputs": [],
   "source": [
    "texto = \"Esto es un texto para ver la frecuencia de las palabras. Ingreso un texto, para ver, texto es..\""
   ]
  },
  {
   "cell_type": "code",
   "execution_count": 50,
   "id": "57589aaa",
   "metadata": {},
   "outputs": [
    {
     "data": {
      "text/plain": [
       "{'esto': 1,\n",
       " 'es': 2,\n",
       " 'un': 2,\n",
       " 'texto': 3,\n",
       " 'para': 2,\n",
       " 'ver': 2,\n",
       " 'la': 1,\n",
       " 'frecuencia': 1,\n",
       " 'de': 1,\n",
       " 'las': 1,\n",
       " 'palabras': 1,\n",
       " 'ingreso': 1}"
      ]
     },
     "execution_count": 50,
     "metadata": {},
     "output_type": "execute_result"
    }
   ],
   "source": [
    "obtener_frecuencia_de_palabras(texto)"
   ]
  },
  {
   "cell_type": "markdown",
   "id": "0bf8f283",
   "metadata": {},
   "source": [
    "<br><br>\n",
    "4. Escribir otra función que reciba el diccionario generado con la función anterior y devuelva una tupla con la palabra más repetida y su frecuencia."
   ]
  },
  {
   "cell_type": "code",
   "execution_count": 56,
   "id": "c6c78f9c",
   "metadata": {},
   "outputs": [],
   "source": [
    "def obtener_palabra_mas_frecuente(frecuencias):\n",
    "    palabra_mas_frecuente = max(frecuencias, key = frecuencias.get)\n",
    "    return (palabra_mas_frecuente, frecuencias[palabra_mas_frecuente])"
   ]
  },
  {
   "cell_type": "code",
   "execution_count": 57,
   "id": "c692be87",
   "metadata": {},
   "outputs": [],
   "source": [
    "frecuencias = obtener_frecuencia_de_palabras(texto)"
   ]
  },
  {
   "cell_type": "code",
   "execution_count": 58,
   "id": "f7930872",
   "metadata": {},
   "outputs": [
    {
     "data": {
      "text/plain": [
       "{'esto': 1,\n",
       " 'es': 2,\n",
       " 'un': 2,\n",
       " 'texto': 3,\n",
       " 'para': 2,\n",
       " 'ver': 2,\n",
       " 'la': 1,\n",
       " 'frecuencia': 1,\n",
       " 'de': 1,\n",
       " 'las': 1,\n",
       " 'palabras': 1,\n",
       " 'ingreso': 1}"
      ]
     },
     "execution_count": 58,
     "metadata": {},
     "output_type": "execute_result"
    }
   ],
   "source": [
    "frecuencias"
   ]
  },
  {
   "cell_type": "code",
   "execution_count": 59,
   "id": "e19b8f6c",
   "metadata": {},
   "outputs": [
    {
     "data": {
      "text/plain": [
       "('texto', 3)"
      ]
     },
     "execution_count": 59,
     "metadata": {},
     "output_type": "execute_result"
    }
   ],
   "source": [
    "obtener_palabra_mas_frecuente(frecuencias)"
   ]
  },
  {
   "cell_type": "code",
   "execution_count": 60,
   "id": "af071a8a",
   "metadata": {},
   "outputs": [
    {
     "data": {
      "text/plain": [
       "tuple"
      ]
     },
     "execution_count": 60,
     "metadata": {},
     "output_type": "execute_result"
    }
   ],
   "source": [
    "type(obtener_palabra_mas_frecuente(frecuencias))"
   ]
  },
  {
   "cell_type": "markdown",
   "id": "adba2426",
   "metadata": {},
   "source": [
    "<br><br>\n",
    "5. Sabiendo que ValueError es la excepción que se lanza cuando no podemos convertir una cadena de texto en su valor numérico, escriba una función get_int() que lea un valor entero del usuario y lo devuelva, iterando mientras el valor no sea correcto. Intente resolver el ejercicio tanto de manera iterativa como recursiva."
   ]
  },
  {
   "cell_type": "code",
   "execution_count": null,
   "id": "57ca45cf",
   "metadata": {},
   "outputs": [],
   "source": []
  },
  {
   "cell_type": "code",
   "execution_count": null,
   "id": "054b18bf",
   "metadata": {},
   "outputs": [],
   "source": []
  },
  {
   "cell_type": "code",
   "execution_count": null,
   "id": "76f120bf",
   "metadata": {},
   "outputs": [],
   "source": []
  },
  {
   "cell_type": "code",
   "execution_count": null,
   "id": "7a857900",
   "metadata": {},
   "outputs": [],
   "source": []
  },
  {
   "cell_type": "code",
   "execution_count": null,
   "id": "8129bda5",
   "metadata": {},
   "outputs": [],
   "source": []
  },
  {
   "cell_type": "markdown",
   "id": "0fbd79ee",
   "metadata": {},
   "source": [
    "<br><br>\n",
    "6. Crear una clase llamada Persona. Sus atributos son: nombre, edad y DNI. Construya los siguientes métodos para la clase: <br>\n",
    "• Un constructor, donde los datos pueden estar vacíos. <br>\n",
    "• Los setters y getters para cada uno de los atributos. Hay que validar las entradas de datos. <br>\n",
    "• mostrar(): Muestra los datos de la persona. <br>\n",
    "• Es_mayor_de_edad(): Devuelve un valor lógico indicando si es mayor de edad. "
   ]
  },
  {
   "cell_type": "code",
   "execution_count": null,
   "id": "56cf76d7",
   "metadata": {},
   "outputs": [],
   "source": []
  },
  {
   "cell_type": "code",
   "execution_count": null,
   "id": "1a8ee513",
   "metadata": {},
   "outputs": [],
   "source": []
  },
  {
   "cell_type": "markdown",
   "id": "607b1949",
   "metadata": {},
   "source": [
    "<br><br>\n",
    "7. Crea una clase llamada Cuenta que tendrá los siguientes atributos: titular (que es una persona) y cantidad (puede tener decimales). <br>\n",
    "El titular será obligatorio y la cantidad es opcional. Crear los siguientes métodos para la clase: <br>\n",
    "    • Un constructor, donde los datos pueden estar vacíos.  <br>\n",
    "    • Los setters y getters para cada uno de los atributos. El atributo no se puede modificar directamente, sólo ingresando o retirando dinero.  <br>\n",
    "    • mostrar(): Muestra los datos de la cuenta.  <br>\n",
    "    • ingresar(cantidad): se ingresa una cantidad a la cuenta, si la cantidad introducida es negativa, no se hará nada.  <br>\n",
    "    • retirar(cantidad): se retira una cantidad a la cuenta. La cuenta puede estar en números rojos. "
   ]
  },
  {
   "cell_type": "code",
   "execution_count": null,
   "id": "27c9ca48",
   "metadata": {},
   "outputs": [],
   "source": []
  },
  {
   "cell_type": "markdown",
   "id": "9f47fb7d",
   "metadata": {},
   "source": [
    "<br><br>\n",
    "8. Vamos a definir ahora una “Cuenta Joven”, para ello vamos a crear una nueva clase CuantaJoven que deriva de la clase creada en el punto 7.  <br>\n",
    "Cuando se crea esta nueva clase, además del titular y la cantidad se debe guardar una bonificación que estará expresada en tanto por ciento. Crear los siguientes métodos para la clase:  <br>\n",
    "• Un constructor. <br>\n",
    "• Los setters y getters para el nuevo atributo.  <br>\n",
    "• En esta ocasión los titulares de este tipo de cuenta tienen que ser mayor de edad, por lo tanto hay que crear un método es_titular_valido() que devuelve verdadero si el titular es mayor de edad pero menor de 25 años y falso en caso contrario.  <br>\n",
    "• Además, la retirada de dinero sólo se podrá hacer si el titular es válido.  <br>\n",
    "• El método mostrar() debe devolver el mensaje de “Cuenta Joven” y la bonificación de la cuenta."
   ]
  },
  {
   "cell_type": "code",
   "execution_count": null,
   "id": "c2e9b297",
   "metadata": {},
   "outputs": [],
   "source": []
  },
  {
   "cell_type": "code",
   "execution_count": null,
   "id": "03d3ce5e",
   "metadata": {},
   "outputs": [],
   "source": []
  },
  {
   "cell_type": "code",
   "execution_count": null,
   "id": "c3edec67",
   "metadata": {},
   "outputs": [],
   "source": []
  },
  {
   "cell_type": "code",
   "execution_count": null,
   "id": "ac65a434",
   "metadata": {},
   "outputs": [],
   "source": []
  }
 ],
 "metadata": {
  "kernelspec": {
   "display_name": "Python 3 (ipykernel)",
   "language": "python",
   "name": "python3"
  },
  "language_info": {
   "codemirror_mode": {
    "name": "ipython",
    "version": 3
   },
   "file_extension": ".py",
   "mimetype": "text/x-python",
   "name": "python",
   "nbconvert_exporter": "python",
   "pygments_lexer": "ipython3",
   "version": "3.9.12"
  }
 },
 "nbformat": 4,
 "nbformat_minor": 5
}
