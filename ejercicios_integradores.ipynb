{
 "cells": [
  {
   "cell_type": "markdown",
   "id": "2fbab3fb",
   "metadata": {},
   "source": [
    "# <center>  CODO A CODO: DJANGO 2023 </center>\n",
    "## <center>Leticia Castro Brisson</center>"
   ]
  },
  {
   "cell_type": "markdown",
   "id": "9cbec4d5",
   "metadata": {},
   "source": [
    "### <center>Ejercicios integradores</center>"
   ]
  },
  {
   "cell_type": "markdown",
   "id": "cafb69ec",
   "metadata": {},
   "source": [
    "<br><br>\n",
    "1. Escribir una función que calcule el máximo común divisor entre dos números."
   ]
  },
  {
   "cell_type": "code",
   "execution_count": 1,
   "id": "4c99a009",
   "metadata": {},
   "outputs": [],
   "source": [
    "def maximo_comun_divisor(num1, num2):\n",
    "    divisores1 = []\n",
    "    divisores2 = []\n",
    "    for i in range(1, num1 +1):\n",
    "        if num1 % i == 0:\n",
    "            divisores1.append(i)\n",
    "    for i in range(1, num2+1):\n",
    "        if num2 % i == 0:\n",
    "            divisores2.append(i)\n",
    "    return max(list(set(divisores1) & set(divisores2)))"
   ]
  },
  {
   "cell_type": "code",
   "execution_count": 2,
   "id": "37d2907d",
   "metadata": {},
   "outputs": [
    {
     "data": {
      "text/plain": [
       "6"
      ]
     },
     "execution_count": 2,
     "metadata": {},
     "output_type": "execute_result"
    }
   ],
   "source": [
    "maximo_comun_divisor(12, 18)"
   ]
  },
  {
   "cell_type": "code",
   "execution_count": 3,
   "id": "6e2085ca",
   "metadata": {},
   "outputs": [
    {
     "data": {
      "text/plain": [
       "50"
      ]
     },
     "execution_count": 3,
     "metadata": {},
     "output_type": "execute_result"
    }
   ],
   "source": [
    "maximo_comun_divisor(50, 100)"
   ]
  },
  {
   "cell_type": "markdown",
   "id": "fe2cd30e",
   "metadata": {},
   "source": [
    "<br><br>\n",
    "2. Escribir una función que calcule el mínimo común múltiplo entre dos números"
   ]
  },
  {
   "cell_type": "code",
   "execution_count": null,
   "id": "3baf4ccd",
   "metadata": {},
   "outputs": [],
   "source": []
  },
  {
   "cell_type": "code",
   "execution_count": null,
   "id": "f6d3b946",
   "metadata": {},
   "outputs": [],
   "source": []
  },
  {
   "cell_type": "code",
   "execution_count": null,
   "id": "da398236",
   "metadata": {},
   "outputs": [],
   "source": []
  },
  {
   "cell_type": "code",
   "execution_count": null,
   "id": "83a4efc0",
   "metadata": {},
   "outputs": [],
   "source": []
  },
  {
   "cell_type": "code",
   "execution_count": null,
   "id": "e816b7c3",
   "metadata": {},
   "outputs": [],
   "source": []
  },
  {
   "cell_type": "code",
   "execution_count": null,
   "id": "6c316f39",
   "metadata": {},
   "outputs": [],
   "source": []
  },
  {
   "cell_type": "markdown",
   "id": "a9c91452",
   "metadata": {},
   "source": [
    "<br><br>\n",
    "3. Escribir un programa que reciba una cadena de caracteres y devuelva un diccionario con cada palabra que contiene y la cantidad de veces que aparece (frecuencia)."
   ]
  },
  {
   "cell_type": "code",
   "execution_count": 4,
   "id": "806cf2aa",
   "metadata": {},
   "outputs": [],
   "source": [
    "def obtener_frecuencia_de_palabras(texto):\n",
    "    import re\n",
    "    diccionario_de_frecuencias = {}\n",
    "    texto_sin_puntuacion = re.sub(r'[^\\w\\s]', '', texto.lower())\n",
    "    lista_palabras = texto_sin_puntuacion.split()\n",
    "    for palabra in lista_palabras:\n",
    "        if palabra in diccionario_de_frecuencias:\n",
    "            diccionario_de_frecuencias[palabra] += 1\n",
    "        else:\n",
    "            diccionario_de_frecuencias.update({palabra: 1}) \n",
    "    return diccionario_de_frecuencias"
   ]
  },
  {
   "cell_type": "code",
   "execution_count": 5,
   "id": "d8cc16c8",
   "metadata": {},
   "outputs": [],
   "source": [
    "texto = \"Esto es un texto para ver la frecuencia de las palabras. Ingreso un texto, para ver, texto es..\""
   ]
  },
  {
   "cell_type": "code",
   "execution_count": 6,
   "id": "7d36da8a",
   "metadata": {},
   "outputs": [
    {
     "data": {
      "text/plain": [
       "{'esto': 1,\n",
       " 'es': 2,\n",
       " 'un': 2,\n",
       " 'texto': 3,\n",
       " 'para': 2,\n",
       " 'ver': 2,\n",
       " 'la': 1,\n",
       " 'frecuencia': 1,\n",
       " 'de': 1,\n",
       " 'las': 1,\n",
       " 'palabras': 1,\n",
       " 'ingreso': 1}"
      ]
     },
     "execution_count": 6,
     "metadata": {},
     "output_type": "execute_result"
    }
   ],
   "source": [
    "obtener_frecuencia_de_palabras(texto)"
   ]
  },
  {
   "cell_type": "markdown",
   "id": "63b1dad8",
   "metadata": {},
   "source": [
    "<br><br>\n",
    "4. Escribir otra función que reciba el diccionario generado con la función anterior y devuelva una tupla con la palabra más repetida y su frecuencia."
   ]
  },
  {
   "cell_type": "code",
   "execution_count": 7,
   "id": "811c7dde",
   "metadata": {},
   "outputs": [],
   "source": [
    "def obtener_palabra_mas_frecuente(frecuencias):\n",
    "    palabra_mas_frecuente = max(frecuencias, key = frecuencias.get)\n",
    "    return (palabra_mas_frecuente, frecuencias[palabra_mas_frecuente])"
   ]
  },
  {
   "cell_type": "code",
   "execution_count": 8,
   "id": "64a7850a",
   "metadata": {},
   "outputs": [],
   "source": [
    "frecuencias = obtener_frecuencia_de_palabras(texto)"
   ]
  },
  {
   "cell_type": "code",
   "execution_count": 9,
   "id": "894d1e85",
   "metadata": {},
   "outputs": [
    {
     "data": {
      "text/plain": [
       "{'esto': 1,\n",
       " 'es': 2,\n",
       " 'un': 2,\n",
       " 'texto': 3,\n",
       " 'para': 2,\n",
       " 'ver': 2,\n",
       " 'la': 1,\n",
       " 'frecuencia': 1,\n",
       " 'de': 1,\n",
       " 'las': 1,\n",
       " 'palabras': 1,\n",
       " 'ingreso': 1}"
      ]
     },
     "execution_count": 9,
     "metadata": {},
     "output_type": "execute_result"
    }
   ],
   "source": [
    "frecuencias"
   ]
  },
  {
   "cell_type": "code",
   "execution_count": 10,
   "id": "423855a1",
   "metadata": {},
   "outputs": [
    {
     "data": {
      "text/plain": [
       "('texto', 3)"
      ]
     },
     "execution_count": 10,
     "metadata": {},
     "output_type": "execute_result"
    }
   ],
   "source": [
    "obtener_palabra_mas_frecuente(frecuencias)"
   ]
  },
  {
   "cell_type": "code",
   "execution_count": 11,
   "id": "ef9a5d41",
   "metadata": {},
   "outputs": [
    {
     "data": {
      "text/plain": [
       "tuple"
      ]
     },
     "execution_count": 11,
     "metadata": {},
     "output_type": "execute_result"
    }
   ],
   "source": [
    "type(obtener_palabra_mas_frecuente(frecuencias))"
   ]
  },
  {
   "cell_type": "markdown",
   "id": "d40545e4",
   "metadata": {},
   "source": [
    "<br><br>\n",
    "5. Sabiendo que ValueError es la excepción que se lanza cuando no podemos convertir una cadena de texto en su valor numérico, escriba una función get_int() que lea un valor entero del usuario y lo devuelva, iterando mientras el valor no sea correcto. Intente resolver el ejercicio tanto de manera iterativa como recursiva."
   ]
  },
  {
   "cell_type": "code",
   "execution_count": 12,
   "id": "aeaae09f",
   "metadata": {},
   "outputs": [],
   "source": [
    "# Forma Iterativa:\n",
    "\n",
    "def get_int():\n",
    "    while True:\n",
    "        try:\n",
    "            value = int(input(\"Ingrese un número entero: \"))\n",
    "            return value\n",
    "        except ValueError:\n",
    "            print(\"El valor ingresado no es válido. Intente nuevamente.\")"
   ]
  },
  {
   "cell_type": "code",
   "execution_count": 13,
   "id": "0b59ceea",
   "metadata": {},
   "outputs": [
    {
     "name": "stdout",
     "output_type": "stream",
     "text": [
      "Ingrese un número entero: uno\n",
      "El valor ingresado no es válido. Intente nuevamente.\n",
      "Ingrese un número entero: 5.0\n",
      "El valor ingresado no es válido. Intente nuevamente.\n",
      "Ingrese un número entero: 5\n"
     ]
    }
   ],
   "source": [
    "numero_entero = get_int()"
   ]
  },
  {
   "cell_type": "code",
   "execution_count": 14,
   "id": "b0ee7878",
   "metadata": {},
   "outputs": [],
   "source": [
    "# Forma Recursiva:\n",
    "\n",
    "def get_int():\n",
    "    try:\n",
    "        value = int(input(\"Ingrese un número entero: \"))\n",
    "        return value\n",
    "    except ValueError:\n",
    "        print(\"El valor ingresado no es válido. Intente nuevamente.\")\n",
    "        return get_int()"
   ]
  },
  {
   "cell_type": "code",
   "execution_count": 15,
   "id": "61cb873b",
   "metadata": {},
   "outputs": [
    {
     "name": "stdout",
     "output_type": "stream",
     "text": [
      "Ingrese un número entero: dos\n",
      "El valor ingresado no es válido. Intente nuevamente.\n",
      "Ingrese un número entero: 2.0\n",
      "El valor ingresado no es válido. Intente nuevamente.\n",
      "Ingrese un número entero: 2\n"
     ]
    }
   ],
   "source": [
    "numero_entero = get_int()"
   ]
  },
  {
   "cell_type": "markdown",
   "id": "90aa7f58",
   "metadata": {},
   "source": [
    "<br><br>\n",
    "6. Crear una clase llamada Persona. Sus atributos son: nombre, edad y DNI. Construya los siguientes métodos para la clase: <br>\n",
    "• Un constructor, donde los datos pueden estar vacíos. <br>\n",
    "• Los setters y getters para cada uno de los atributos. Hay que validar las entradas de datos. <br>\n",
    "• mostrar(): Muestra los datos de la persona. <br>\n",
    "• Es_mayor_de_edad(): Devuelve un valor lógico indicando si es mayor de edad. "
   ]
  },
  {
   "cell_type": "code",
   "execution_count": 16,
   "id": "803ffa6c",
   "metadata": {},
   "outputs": [],
   "source": [
    "# Clase Persona\n",
    "\n",
    "class Persona:\n",
    "    def __init__(self, nombre=None, edad=None, dni=None):\n",
    "        self.nombre = nombre\n",
    "        self.edad = edad\n",
    "        self.dni = dni\n",
    "    \n",
    "    \n",
    "    # Setters y Getters\n",
    "    \n",
    "    def set_nombre(self, nombre):\n",
    "        self.nombre = nombre\n",
    "        \n",
    "    def get_nombre(self):\n",
    "        return self.nombre\n",
    "    \n",
    "    def set_edad(self, edad):\n",
    "        if edad is not None and edad < 0:\n",
    "            raise ValueError(\"La edad ingresada no es válida. Ingrese un valor válido.\")\n",
    "        self.edad = edad\n",
    "        \n",
    "    def get_edad(self):\n",
    "        return self.edad\n",
    "    \n",
    "    def set_dni(self, dni):\n",
    "        if dni is not None and len(dni) != 8:\n",
    "            raise ValueError(\"Verifique el número ingresado. El DNI debe tener 8 caracteres\")\n",
    "        self.dni = dni\n",
    "        \n",
    "    def get_dni(self):\n",
    "        return self.dni\n",
    "    \n",
    "    \n",
    "    # Método mostrar\n",
    "    \n",
    "    def mostrar(self):\n",
    "        print(f\"Nombre: {self.nombre}\")\n",
    "        print(f\"Edad: {self.edad}\")\n",
    "        print(f\"DNI: {self.dni}\")\n",
    "        \n",
    "    # Método Es_mayor_de_edad\n",
    "    \n",
    "    def es_mayor_de_edad(self):\n",
    "        return self.edad >= 18 if self.edad is not None else False"
   ]
  },
  {
   "cell_type": "code",
   "execution_count": 18,
   "id": "658b3486",
   "metadata": {},
   "outputs": [],
   "source": [
    "# Crear una instancia de Persona\n",
    "persona1 = Persona()"
   ]
  },
  {
   "cell_type": "code",
   "execution_count": 19,
   "id": "d901bbeb",
   "metadata": {},
   "outputs": [],
   "source": [
    "persona1.set_nombre(\"Juan\")"
   ]
  },
  {
   "cell_type": "code",
   "execution_count": 20,
   "id": "9b0242c9",
   "metadata": {},
   "outputs": [],
   "source": [
    "persona1.set_edad(25)"
   ]
  },
  {
   "cell_type": "code",
   "execution_count": 21,
   "id": "fa315bb9",
   "metadata": {},
   "outputs": [
    {
     "name": "stdout",
     "output_type": "stream",
     "text": [
      "Nombre: Juan\n",
      "Edad: 25\n",
      "DNI: None\n"
     ]
    }
   ],
   "source": [
    "# Mostrar los datos de la persona\n",
    "persona1.mostrar()"
   ]
  },
  {
   "cell_type": "code",
   "execution_count": 22,
   "id": "d1a3c70c",
   "metadata": {},
   "outputs": [
    {
     "ename": "ValueError",
     "evalue": "Verifique el número ingresado. El DNI debe tener 8 caracteres",
     "output_type": "error",
     "traceback": [
      "\u001b[1;31m---------------------------------------------------------------------------\u001b[0m",
      "\u001b[1;31mValueError\u001b[0m                                Traceback (most recent call last)",
      "Input \u001b[1;32mIn [22]\u001b[0m, in \u001b[0;36m<cell line: 1>\u001b[1;34m()\u001b[0m\n\u001b[1;32m----> 1\u001b[0m \u001b[43mpersona1\u001b[49m\u001b[38;5;241;43m.\u001b[39;49m\u001b[43mset_dni\u001b[49m\u001b[43m(\u001b[49m\u001b[38;5;124;43m\"\u001b[39;49m\u001b[38;5;124;43m123456789\u001b[39;49m\u001b[38;5;124;43m\"\u001b[39;49m\u001b[43m)\u001b[49m\n",
      "Input \u001b[1;32mIn [16]\u001b[0m, in \u001b[0;36mPersona.set_dni\u001b[1;34m(self, dni)\u001b[0m\n\u001b[0;32m     26\u001b[0m \u001b[38;5;28;01mdef\u001b[39;00m \u001b[38;5;21mset_dni\u001b[39m(\u001b[38;5;28mself\u001b[39m, dni):\n\u001b[0;32m     27\u001b[0m     \u001b[38;5;28;01mif\u001b[39;00m dni \u001b[38;5;129;01mis\u001b[39;00m \u001b[38;5;129;01mnot\u001b[39;00m \u001b[38;5;28;01mNone\u001b[39;00m \u001b[38;5;129;01mand\u001b[39;00m \u001b[38;5;28mlen\u001b[39m(dni) \u001b[38;5;241m!=\u001b[39m \u001b[38;5;241m8\u001b[39m:\n\u001b[1;32m---> 28\u001b[0m         \u001b[38;5;28;01mraise\u001b[39;00m \u001b[38;5;167;01mValueError\u001b[39;00m(\u001b[38;5;124m\"\u001b[39m\u001b[38;5;124mVerifique el número ingresado. El DNI debe tener 8 caracteres\u001b[39m\u001b[38;5;124m\"\u001b[39m)\n\u001b[0;32m     29\u001b[0m     \u001b[38;5;28mself\u001b[39m\u001b[38;5;241m.\u001b[39mdni \u001b[38;5;241m=\u001b[39m dni\n",
      "\u001b[1;31mValueError\u001b[0m: Verifique el número ingresado. El DNI debe tener 8 caracteres"
     ]
    }
   ],
   "source": [
    "persona1.set_dni(\"123456789\")"
   ]
  },
  {
   "cell_type": "code",
   "execution_count": 23,
   "id": "f8972455",
   "metadata": {},
   "outputs": [],
   "source": [
    "persona1.set_dni(\"12345678\")"
   ]
  },
  {
   "cell_type": "code",
   "execution_count": 24,
   "id": "a28d36f5",
   "metadata": {},
   "outputs": [
    {
     "name": "stdout",
     "output_type": "stream",
     "text": [
      "Nombre: Juan\n",
      "Edad: 25\n",
      "DNI: 12345678\n"
     ]
    }
   ],
   "source": [
    "# Mostrar los datos de la persona\n",
    "persona1.mostrar()"
   ]
  },
  {
   "cell_type": "code",
   "execution_count": 26,
   "id": "bb55c6fc",
   "metadata": {},
   "outputs": [
    {
     "name": "stdout",
     "output_type": "stream",
     "text": [
      "True\n"
     ]
    }
   ],
   "source": [
    "# Comprobar si es mayor de edad\n",
    "print(persona1.es_mayor_de_edad())"
   ]
  },
  {
   "cell_type": "code",
   "execution_count": 25,
   "id": "4a2a5d65",
   "metadata": {},
   "outputs": [
    {
     "name": "stdout",
     "output_type": "stream",
     "text": [
      "Es mayor de edad\n"
     ]
    }
   ],
   "source": [
    "if persona1.es_mayor_de_edad():\n",
    "    print(\"Es mayor de edad\")\n",
    "else:\n",
    "    print(\"No es mayor de edad\")"
   ]
  },
  {
   "cell_type": "code",
   "execution_count": 27,
   "id": "20d004fc",
   "metadata": {},
   "outputs": [],
   "source": [
    "# Crear una instancia de Persona\n",
    "persona2 = Persona()"
   ]
  },
  {
   "cell_type": "code",
   "execution_count": 28,
   "id": "50d3edf1",
   "metadata": {},
   "outputs": [],
   "source": [
    "persona2.set_nombre(\"Laura\")"
   ]
  },
  {
   "cell_type": "code",
   "execution_count": 31,
   "id": "872dd281",
   "metadata": {},
   "outputs": [],
   "source": [
    "persona2.set_edad(50)"
   ]
  },
  {
   "cell_type": "code",
   "execution_count": 32,
   "id": "d299f88c",
   "metadata": {},
   "outputs": [],
   "source": [
    "persona2.set_dni(\"23456789\")"
   ]
  },
  {
   "cell_type": "code",
   "execution_count": 33,
   "id": "c0da2bd5",
   "metadata": {},
   "outputs": [
    {
     "name": "stdout",
     "output_type": "stream",
     "text": [
      "Nombre: Laura\n",
      "Edad: 50\n",
      "DNI: 23456789\n"
     ]
    }
   ],
   "source": [
    "persona2.mostrar()"
   ]
  },
  {
   "cell_type": "code",
   "execution_count": 34,
   "id": "99295848",
   "metadata": {},
   "outputs": [
    {
     "name": "stdout",
     "output_type": "stream",
     "text": [
      "True\n"
     ]
    }
   ],
   "source": [
    "# Comprobar si es mayor de edad\n",
    "print(persona2.es_mayor_de_edad())"
   ]
  },
  {
   "cell_type": "code",
   "execution_count": 35,
   "id": "22ccd016",
   "metadata": {},
   "outputs": [
    {
     "name": "stdout",
     "output_type": "stream",
     "text": [
      "Es mayor de edad\n"
     ]
    }
   ],
   "source": [
    "if persona2.es_mayor_de_edad():\n",
    "    print(\"Es mayor de edad\")\n",
    "else:\n",
    "    print(\"No es mayor de edad\")"
   ]
  },
  {
   "cell_type": "markdown",
   "id": "d5f84219",
   "metadata": {},
   "source": [
    "<br><br>\n",
    "7. Crea una clase llamada Cuenta que tendrá los siguientes atributos: titular (que es una persona) y cantidad (puede tener decimales). El titular será obligatorio y la cantidad es opcional. <br>\n",
    "Crear los siguientes métodos para la clase: <br>\n",
    "    • Un constructor, donde los datos pueden estar vacíos.  <br>\n",
    "    • Los setters y getters para cada uno de los atributos. El atributo no se puede modificar directamente, sólo ingresando o retirando dinero.  <br>\n",
    "    • mostrar(): Muestra los datos de la cuenta.  <br>\n",
    "    • ingresar(cantidad): se ingresa una cantidad a la cuenta, si la cantidad introducida es negativa, no se hará nada.  <br>\n",
    "    • retirar(cantidad): se retira una cantidad a la cuenta. La cuenta puede estar en números rojos. "
   ]
  },
  {
   "cell_type": "code",
   "execution_count": 39,
   "id": "a78335f9",
   "metadata": {},
   "outputs": [],
   "source": [
    "class Cuenta:\n",
    "    def __init__(self, titular, cantidad=0.0):\n",
    "        self.titular = titular\n",
    "        self.cantidad = cantidad\n",
    "    \n",
    "    def get_titular(self):\n",
    "        return self.titular.nombre\n",
    "    \n",
    "    def set_titular(self, nombre):\n",
    "        self.titular.nombre = nombre\n",
    "    \n",
    "    def get_cantidad(self):\n",
    "        return self.cantidad\n",
    "    \n",
    "    def set_cantidad(self, cantidad):\n",
    "        self.cantidad = cantidad\n",
    "    \n",
    "    def mostrar(self):\n",
    "        print(\"Titular:\", self.get_titular())\n",
    "        print(\"Cantidad:\", self.get_cantidad())\n",
    "    \n",
    "    def ingresar(self, cantidad):\n",
    "        if cantidad > 0:\n",
    "            self.cantidad += cantidad\n",
    "    \n",
    "    def retirar(self, cantidad):\n",
    "        self.cantidad -= cantidad"
   ]
  },
  {
   "cell_type": "code",
   "execution_count": null,
   "id": "354f5057",
   "metadata": {},
   "outputs": [],
   "source": []
  },
  {
   "cell_type": "code",
   "execution_count": null,
   "id": "900a8e3e",
   "metadata": {},
   "outputs": [],
   "source": []
  },
  {
   "cell_type": "markdown",
   "id": "9dcc80e0",
   "metadata": {},
   "source": [
    "<br><br>\n",
    "8. Vamos a definir ahora una “Cuenta Joven”, para ello vamos a crear una nueva clase CuantaJoven que deriva de la clase creada en el punto 7.  <br>\n",
    "Cuando se crea esta nueva clase, además del titular y la cantidad se debe guardar una bonificación que estará expresada en tanto por ciento. Crear los siguientes métodos para la clase:  <br>\n",
    "• Un constructor. <br>\n",
    "• Los setters y getters para el nuevo atributo.  <br>\n",
    "• En esta ocasión los titulares de este tipo de cuenta tienen que ser mayor de edad, por lo tanto hay que crear un método es_titular_valido() que devuelve verdadero si el titular es mayor de edad pero menor de 25 años y falso en caso contrario.  <br>\n",
    "• Además, la retirada de dinero sólo se podrá hacer si el titular es válido.  <br>\n",
    "• El método mostrar() debe devolver el mensaje de “Cuenta Joven” y la bonificación de la cuenta."
   ]
  },
  {
   "cell_type": "code",
   "execution_count": null,
   "id": "63c250da",
   "metadata": {},
   "outputs": [],
   "source": []
  },
  {
   "cell_type": "code",
   "execution_count": null,
   "id": "90d1621a",
   "metadata": {},
   "outputs": [],
   "source": []
  },
  {
   "cell_type": "code",
   "execution_count": null,
   "id": "616b7069",
   "metadata": {},
   "outputs": [],
   "source": []
  },
  {
   "cell_type": "code",
   "execution_count": null,
   "id": "250fa13c",
   "metadata": {},
   "outputs": [],
   "source": []
  }
 ],
 "metadata": {
  "kernelspec": {
   "display_name": "Python 3 (ipykernel)",
   "language": "python",
   "name": "python3"
  },
  "language_info": {
   "codemirror_mode": {
    "name": "ipython",
    "version": 3
   },
   "file_extension": ".py",
   "mimetype": "text/x-python",
   "name": "python",
   "nbconvert_exporter": "python",
   "pygments_lexer": "ipython3",
   "version": "3.9.12"
  }
 },
 "nbformat": 4,
 "nbformat_minor": 5
}
